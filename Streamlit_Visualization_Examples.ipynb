{
  "cells": [
    {
      "cell_type": "markdown",
      "id": "1da988c7",
      "metadata": {
        "id": "1da988c7"
      },
      "source": [
        "\n",
        "# Uso de Streamlit para Visualización de Datos\n",
        "\n",
        "En este notebook aprenderemos cómo utilizar la librería Streamlit para crear aplicaciones web interactivas en Python. Streamlit es ideal para crear aplicaciones de análisis de datos, exploración de modelos de machine learning, y otras visualizaciones de datos, sin necesidad de conocimientos avanzados de desarrollo web.\n",
        "\n",
        "Lo presente en este notebook es necesario correrlo en un entorno local para que funcione, es decir, un archivo python desde un IDE como visual studio.\n"
      ]
    },
    {
      "cell_type": "code",
      "execution_count": null,
      "id": "e0fc6f29",
      "metadata": {
        "colab": {
          "base_uri": "https://localhost:8080/"
        },
        "id": "e0fc6f29",
        "outputId": "19df4f4d-e5a9-42cc-f9b7-055762b740d8"
      },
      "outputs": [
        {
          "name": "stdout",
          "output_type": "stream",
          "text": [
            "Collecting streamlit\n",
            "  Downloading streamlit-1.39.0-py2.py3-none-any.whl.metadata (8.5 kB)\n",
            "Requirement already satisfied: altair<6,>=4.0 in /usr/local/lib/python3.10/dist-packages (from streamlit) (4.2.2)\n",
            "Requirement already satisfied: blinker<2,>=1.0.0 in /usr/lib/python3/dist-packages (from streamlit) (1.4)\n",
            "Requirement already satisfied: cachetools<6,>=4.0 in /usr/local/lib/python3.10/dist-packages (from streamlit) (5.5.0)\n",
            "Requirement already satisfied: click<9,>=7.0 in /usr/local/lib/python3.10/dist-packages (from streamlit) (8.1.7)\n",
            "Requirement already satisfied: numpy<3,>=1.20 in /usr/local/lib/python3.10/dist-packages (from streamlit) (1.26.4)\n",
            "Requirement already satisfied: packaging<25,>=20 in /usr/local/lib/python3.10/dist-packages (from streamlit) (24.1)\n",
            "Requirement already satisfied: pandas<3,>=1.4.0 in /usr/local/lib/python3.10/dist-packages (from streamlit) (2.2.2)\n",
            "Requirement already satisfied: pillow<11,>=7.1.0 in /usr/local/lib/python3.10/dist-packages (from streamlit) (10.4.0)\n",
            "Requirement already satisfied: protobuf<6,>=3.20 in /usr/local/lib/python3.10/dist-packages (from streamlit) (3.20.3)\n",
            "Requirement already satisfied: pyarrow>=7.0 in /usr/local/lib/python3.10/dist-packages (from streamlit) (16.1.0)\n",
            "Requirement already satisfied: requests<3,>=2.27 in /usr/local/lib/python3.10/dist-packages (from streamlit) (2.32.3)\n",
            "Requirement already satisfied: rich<14,>=10.14.0 in /usr/local/lib/python3.10/dist-packages (from streamlit) (13.9.2)\n",
            "Requirement already satisfied: tenacity<10,>=8.1.0 in /usr/local/lib/python3.10/dist-packages (from streamlit) (9.0.0)\n",
            "Requirement already satisfied: toml<2,>=0.10.1 in /usr/local/lib/python3.10/dist-packages (from streamlit) (0.10.2)\n",
            "Requirement already satisfied: typing-extensions<5,>=4.3.0 in /usr/local/lib/python3.10/dist-packages (from streamlit) (4.12.2)\n",
            "Collecting gitpython!=3.1.19,<4,>=3.0.7 (from streamlit)\n",
            "  Downloading GitPython-3.1.43-py3-none-any.whl.metadata (13 kB)\n",
            "Collecting pydeck<1,>=0.8.0b4 (from streamlit)\n",
            "  Downloading pydeck-0.9.1-py2.py3-none-any.whl.metadata (4.1 kB)\n",
            "Requirement already satisfied: tornado<7,>=6.0.3 in /usr/local/lib/python3.10/dist-packages (from streamlit) (6.3.3)\n",
            "Collecting watchdog<6,>=2.1.5 (from streamlit)\n",
            "  Downloading watchdog-5.0.3-py3-none-manylinux2014_x86_64.whl.metadata (41 kB)\n",
            "\u001b[2K     \u001b[90m━━━━━━━━━━━━━━━━━━━━━━━━━━━━━━━━━━━━━━━━\u001b[0m \u001b[32m41.9/41.9 kB\u001b[0m \u001b[31m2.1 MB/s\u001b[0m eta \u001b[36m0:00:00\u001b[0m\n",
            "\u001b[?25hRequirement already satisfied: entrypoints in /usr/local/lib/python3.10/dist-packages (from altair<6,>=4.0->streamlit) (0.4)\n",
            "Requirement already satisfied: jinja2 in /usr/local/lib/python3.10/dist-packages (from altair<6,>=4.0->streamlit) (3.1.4)\n",
            "Requirement already satisfied: jsonschema>=3.0 in /usr/local/lib/python3.10/dist-packages (from altair<6,>=4.0->streamlit) (4.23.0)\n",
            "Requirement already satisfied: toolz in /usr/local/lib/python3.10/dist-packages (from altair<6,>=4.0->streamlit) (0.12.1)\n",
            "Collecting gitdb<5,>=4.0.1 (from gitpython!=3.1.19,<4,>=3.0.7->streamlit)\n",
            "  Downloading gitdb-4.0.11-py3-none-any.whl.metadata (1.2 kB)\n",
            "Requirement already satisfied: python-dateutil>=2.8.2 in /usr/local/lib/python3.10/dist-packages (from pandas<3,>=1.4.0->streamlit) (2.8.2)\n",
            "Requirement already satisfied: pytz>=2020.1 in /usr/local/lib/python3.10/dist-packages (from pandas<3,>=1.4.0->streamlit) (2024.2)\n",
            "Requirement already satisfied: tzdata>=2022.7 in /usr/local/lib/python3.10/dist-packages (from pandas<3,>=1.4.0->streamlit) (2024.2)\n",
            "Requirement already satisfied: charset-normalizer<4,>=2 in /usr/local/lib/python3.10/dist-packages (from requests<3,>=2.27->streamlit) (3.4.0)\n",
            "Requirement already satisfied: idna<4,>=2.5 in /usr/local/lib/python3.10/dist-packages (from requests<3,>=2.27->streamlit) (3.10)\n",
            "Requirement already satisfied: urllib3<3,>=1.21.1 in /usr/local/lib/python3.10/dist-packages (from requests<3,>=2.27->streamlit) (2.2.3)\n",
            "Requirement already satisfied: certifi>=2017.4.17 in /usr/local/lib/python3.10/dist-packages (from requests<3,>=2.27->streamlit) (2024.8.30)\n",
            "Requirement already satisfied: markdown-it-py>=2.2.0 in /usr/local/lib/python3.10/dist-packages (from rich<14,>=10.14.0->streamlit) (3.0.0)\n",
            "Requirement already satisfied: pygments<3.0.0,>=2.13.0 in /usr/local/lib/python3.10/dist-packages (from rich<14,>=10.14.0->streamlit) (2.18.0)\n",
            "Collecting smmap<6,>=3.0.1 (from gitdb<5,>=4.0.1->gitpython!=3.1.19,<4,>=3.0.7->streamlit)\n",
            "  Downloading smmap-5.0.1-py3-none-any.whl.metadata (4.3 kB)\n",
            "Requirement already satisfied: MarkupSafe>=2.0 in /usr/local/lib/python3.10/dist-packages (from jinja2->altair<6,>=4.0->streamlit) (3.0.1)\n",
            "Requirement already satisfied: attrs>=22.2.0 in /usr/local/lib/python3.10/dist-packages (from jsonschema>=3.0->altair<6,>=4.0->streamlit) (24.2.0)\n",
            "Requirement already satisfied: jsonschema-specifications>=2023.03.6 in /usr/local/lib/python3.10/dist-packages (from jsonschema>=3.0->altair<6,>=4.0->streamlit) (2024.10.1)\n",
            "Requirement already satisfied: referencing>=0.28.4 in /usr/local/lib/python3.10/dist-packages (from jsonschema>=3.0->altair<6,>=4.0->streamlit) (0.35.1)\n",
            "Requirement already satisfied: rpds-py>=0.7.1 in /usr/local/lib/python3.10/dist-packages (from jsonschema>=3.0->altair<6,>=4.0->streamlit) (0.20.0)\n",
            "Requirement already satisfied: mdurl~=0.1 in /usr/local/lib/python3.10/dist-packages (from markdown-it-py>=2.2.0->rich<14,>=10.14.0->streamlit) (0.1.2)\n",
            "Requirement already satisfied: six>=1.5 in /usr/local/lib/python3.10/dist-packages (from python-dateutil>=2.8.2->pandas<3,>=1.4.0->streamlit) (1.16.0)\n",
            "Downloading streamlit-1.39.0-py2.py3-none-any.whl (8.7 MB)\n",
            "\u001b[2K   \u001b[90m━━━━━━━━━━━━━━━━━━━━━━━━━━━━━━━━━━━━━━━━\u001b[0m \u001b[32m8.7/8.7 MB\u001b[0m \u001b[31m50.3 MB/s\u001b[0m eta \u001b[36m0:00:00\u001b[0m\n",
            "\u001b[?25hDownloading GitPython-3.1.43-py3-none-any.whl (207 kB)\n",
            "\u001b[2K   \u001b[90m━━━━━━━━━━━━━━━━━━━━━━━━━━━━━━━━━━━━━━━━\u001b[0m \u001b[32m207.3/207.3 kB\u001b[0m \u001b[31m14.7 MB/s\u001b[0m eta \u001b[36m0:00:00\u001b[0m\n",
            "\u001b[?25hDownloading pydeck-0.9.1-py2.py3-none-any.whl (6.9 MB)\n",
            "\u001b[2K   \u001b[90m━━━━━━━━━━━━━━━━━━━━━━━━━━━━━━━━━━━━━━━━\u001b[0m \u001b[32m6.9/6.9 MB\u001b[0m \u001b[31m53.9 MB/s\u001b[0m eta \u001b[36m0:00:00\u001b[0m\n",
            "\u001b[?25hDownloading watchdog-5.0.3-py3-none-manylinux2014_x86_64.whl (79 kB)\n",
            "\u001b[2K   \u001b[90m━━━━━━━━━━━━━━━━━━━━━━━━━━━━━━━━━━━━━━━━\u001b[0m \u001b[32m79.3/79.3 kB\u001b[0m \u001b[31m5.7 MB/s\u001b[0m eta \u001b[36m0:00:00\u001b[0m\n",
            "\u001b[?25hDownloading gitdb-4.0.11-py3-none-any.whl (62 kB)\n",
            "\u001b[2K   \u001b[90m━━━━━━━━━━━━━━━━━━━━━━━━━━━━━━━━━━━━━━━━\u001b[0m \u001b[32m62.7/62.7 kB\u001b[0m \u001b[31m4.6 MB/s\u001b[0m eta \u001b[36m0:00:00\u001b[0m\n",
            "\u001b[?25hDownloading smmap-5.0.1-py3-none-any.whl (24 kB)\n",
            "Installing collected packages: watchdog, smmap, pydeck, gitdb, gitpython, streamlit\n",
            "Successfully installed gitdb-4.0.11 gitpython-3.1.43 pydeck-0.9.1 smmap-5.0.1 streamlit-1.39.0 watchdog-5.0.3\n"
          ]
        }
      ],
      "source": [
        "\n",
        "# Instalación de Streamlit\n",
        "!pip install streamlit\n"
      ]
    },
    {
      "cell_type": "code",
      "source": [
        "\n",
        "import streamlit as st\n",
        "import pandas as pd\n",
        "import numpy as np\n",
        "import seaborn as sns\n",
        "import matplotlib.pyplot as plt"
      ],
      "metadata": {
        "id": "pxp2mahBLs80"
      },
      "id": "pxp2mahBLs80",
      "execution_count": 7,
      "outputs": []
    },
    {
      "cell_type": "markdown",
      "source": [
        "Ejemplo sencillo de gráfico de lineas."
      ],
      "metadata": {
        "id": "FeIBoCWCL3NR"
      },
      "id": "FeIBoCWCL3NR"
    },
    {
      "cell_type": "code",
      "source": [
        "# Datos de ejemplo para un gráfico de líneas\n",
        "data = pd.DataFrame(\n",
        "    np.random.randn(50, 3),\n",
        "    columns=['A', 'B', 'C']\n",
        ")\n",
        "\n",
        "# Crear un gráfico de líneas en Streamlit\n",
        "st.line_chart(data)"
      ],
      "metadata": {
        "colab": {
          "base_uri": "https://localhost:8080/"
        },
        "id": "5DhQePD_Lxlp",
        "outputId": "e6cf1323-99a1-4b1e-e7f5-1fbc2761c2c4"
      },
      "id": "5DhQePD_Lxlp",
      "execution_count": 8,
      "outputs": [
        {
          "output_type": "stream",
          "name": "stderr",
          "text": [
            "2024-10-15 03:18:38.260 Thread 'MainThread': missing ScriptRunContext! This warning can be ignored when running in bare mode.\n",
            "2024-10-15 03:18:38.266 Thread 'MainThread': missing ScriptRunContext! This warning can be ignored when running in bare mode.\n"
          ]
        },
        {
          "output_type": "execute_result",
          "data": {
            "text/plain": [
              "DeltaGenerator()"
            ]
          },
          "metadata": {},
          "execution_count": 8
        }
      ]
    },
    {
      "cell_type": "markdown",
      "source": [
        "Ejemplo de uso de gráfico de barras."
      ],
      "metadata": {
        "id": "b3j5OmlTMCgE"
      },
      "id": "b3j5OmlTMCgE"
    },
    {
      "cell_type": "code",
      "source": [
        "data = pd.DataFrame({\n",
        "    'Product': ['Product A', 'Product B', 'Product C', 'Product D'],\n",
        "    'Sales': [20, 35, 30, 35]\n",
        "})\n",
        "\n",
        "# Crear un gráfico de barras en Streamlit\n",
        "st.bar_chart(data.set_index('Product'))"
      ],
      "metadata": {
        "colab": {
          "base_uri": "https://localhost:8080/"
        },
        "id": "JpZcSxb4MAFa",
        "outputId": "c48c9d15-0be5-47f2-c9b1-b3daa7763987"
      },
      "id": "JpZcSxb4MAFa",
      "execution_count": 9,
      "outputs": [
        {
          "output_type": "stream",
          "name": "stderr",
          "text": [
            "2024-10-15 03:20:54.037 Thread 'MainThread': missing ScriptRunContext! This warning can be ignored when running in bare mode.\n",
            "2024-10-15 03:20:54.038 Thread 'MainThread': missing ScriptRunContext! This warning can be ignored when running in bare mode.\n"
          ]
        },
        {
          "output_type": "execute_result",
          "data": {
            "text/plain": [
              "DeltaGenerator()"
            ]
          },
          "metadata": {},
          "execution_count": 9
        }
      ]
    },
    {
      "cell_type": "markdown",
      "source": [
        "Gráfico de calor utilizando la función map de streamlit, la cual permite utilizar coordenadas de latitud y longitud para visualizar la dispersión de los datos en un mapa global."
      ],
      "metadata": {
        "id": "TVN1nYpVMIs3"
      },
      "id": "TVN1nYpVMIs3"
    },
    {
      "cell_type": "code",
      "source": [
        "# Datos de ejemplo para un mapa de calor\n",
        "data = pd.DataFrame(\n",
        "    np.random.randn(100, 2) / [50, 50] + [4.1425, -73.629],\n",
        "    columns=['lat', 'lon']\n",
        ")\n",
        "\n",
        "# Crear un mapa de calor en Streamlit\n",
        "st.map(data)"
      ],
      "metadata": {
        "colab": {
          "base_uri": "https://localhost:8080/"
        },
        "id": "LZtNGyQSMID1",
        "outputId": "e9b54c8a-a94f-4fdf-b415-b54f54d8c408"
      },
      "id": "LZtNGyQSMID1",
      "execution_count": 10,
      "outputs": [
        {
          "output_type": "stream",
          "name": "stderr",
          "text": [
            "2024-10-15 03:20:55.372 Thread 'MainThread': missing ScriptRunContext! This warning can be ignored when running in bare mode.\n",
            "2024-10-15 03:20:55.376 Thread 'MainThread': missing ScriptRunContext! This warning can be ignored when running in bare mode.\n"
          ]
        },
        {
          "output_type": "execute_result",
          "data": {
            "text/plain": [
              "DeltaGenerator()"
            ]
          },
          "metadata": {},
          "execution_count": 10
        }
      ]
    },
    {
      "cell_type": "markdown",
      "source": [
        "Ejemplo de uso de gráficos externos a la libreria de streamlit.\n",
        "\n",
        "En este ejemplo se está utilizando la librería seaborn para realizar el gráfico de barras, posteriormente, el gráfico es pasado como argumento al método pyplot, para que este sea mostrado al momento de ejecutar el programa."
      ],
      "metadata": {
        "id": "bhn3HiavMXde"
      },
      "id": "bhn3HiavMXde"
    },
    {
      "cell_type": "code",
      "source": [
        "# Datos de ejemplo\n",
        "data = pd.DataFrame({\n",
        "    'Product': ['Product A', 'Product B', 'Product C', 'Product D'],\n",
        "    'Sales': [20, 35, 30, 35]\n",
        "})\n",
        "\n",
        "st.title(\"Gráfico de Barras de Ventas por Producto\")\n",
        "\n",
        "# Crear el gráfico de barras\n",
        "\n",
        "bar = sns.barplot(x='Product', y='Sales', data=data)\n",
        "\n",
        "st.pyplot(bar.figure)"
      ],
      "metadata": {
        "id": "sVmTQh6CMXyk"
      },
      "id": "sVmTQh6CMXyk",
      "execution_count": null,
      "outputs": []
    },
    {
      "cell_type": "markdown",
      "source": [
        "El siguiente ejemplo permite que el usuario seleccione entre dos opciones, \"dataset 1\" y \"dataset 2\", lo cual va a gráficar data1 o data2 dependiendo de lo que haya seleccionado el usuario. Streamlit permite utilizar selectbox, checkbox, button, uploadFile, slider, entre otras herramientas que lo vuelven más interactivos.\n",
        "\n",
        "Para finalidades del ejemplo, en este caso solo se está utilizando selectbox."
      ],
      "metadata": {
        "id": "dQ7P1jwNM0aH"
      },
      "id": "dQ7P1jwNM0aH"
    },
    {
      "cell_type": "code",
      "source": [
        "data1 = pd.DataFrame(np.random.randn(100, 2), columns=['X', 'Y'])\n",
        "data2 = pd.DataFrame(np.random.randn(100, 2) * [10, 5], columns=['X', 'Y'])\n",
        "\n",
        "st.title(\"Selector Interactivo para Visualización de Gráficos de Dispersión\")\n",
        "\n",
        "dataset = st.selectbox(\"Selecciona el conjunto de datos:\", [\"Dataset 1\", \"Dataset 2\"])\n",
        "\n",
        "fig, ax = plt.subplots()\n",
        "if dataset == \"Dataset 1\":\n",
        "    ax.scatter(data1['X'], data1['Y'], color='blue')\n",
        "else:\n",
        "    ax.scatter(data2['X'], data2['Y'], color='green')\n",
        "\n",
        "ax.set_title(f\"Gráfico de Dispersión - {dataset}\")\n",
        "st.pyplot(fig)"
      ],
      "metadata": {
        "id": "Hz-la_OfM0qu"
      },
      "id": "Hz-la_OfM0qu",
      "execution_count": null,
      "outputs": []
    },
    {
      "cell_type": "markdown",
      "source": [
        "Para este ejemplo, se usa el checkbox para mostrar un mapa de calor de unos datos generado aleatoriamente, si el checkbox no es seleccionado únicamente se mostraran los datos.\n",
        "\n",
        "Hay que tener en cuenta que ambos diagramas (heatmap y pairplo) se están renderizando o están siendo generados por la librería seaborn."
      ],
      "metadata": {
        "id": "aTAVi7ZlNq58"
      },
      "id": "aTAVi7ZlNq58"
    },
    {
      "cell_type": "code",
      "source": [
        "\n",
        "data = pd.DataFrame(np.random.randn(100, 3), columns=['Variable A', 'Variable B', 'Variable C'])\n",
        "\n",
        "st.title(\"Exploración de Correlación\")\n",
        "\n",
        "show_heatmap = st.checkbox(\"Mostrar mapa de calor de correlación\")\n",
        "\n",
        "fig, ax = plt.subplots()  # Asegúrate de asignar fig y ax\n",
        "if show_heatmap:\n",
        "    corr = data.corr()\n",
        "    sns.heatmap(corr, annot=True, cmap=\"coolwarm\", ax=ax)\n",
        "    st.pyplot(fig)\n",
        "else:\n",
        "    sns.pairplot(data)\n",
        "    st.pyplot(None)\n"
      ],
      "metadata": {
        "id": "nnqHX8-bNrA_"
      },
      "id": "nnqHX8-bNrA_",
      "execution_count": null,
      "outputs": []
    },
    {
      "cell_type": "markdown",
      "source": [
        "Ejercicio resuelto:"
      ],
      "metadata": {
        "id": "QGcRCVKmTDdv"
      },
      "id": "QGcRCVKmTDdv"
    },
    {
      "cell_type": "code",
      "source": [
        "np.random.seed(40)  # Para reproducibilidad\n",
        "dias = ['Lunes', 'Martes', 'Miércoles', 'Jueves', 'Viernes', 'Sábado', 'Domingo']\n",
        "temperaturas = np.random.uniform(low=15, high=40, size=len(dias))\n",
        "\n",
        "# Crear un DataFrame\n",
        "data = pd.DataFrame({'Día': dias, 'Temperatura (°C)': temperaturas})\n",
        "\n",
        "# Título de la aplicación\n",
        "st.title(\"Gráfico de Líneas Interactivo de Temperaturas\")\n",
        "\n",
        "# Slider para seleccionar el rango de días\n",
        "start_day = st.slider(\"Selecciona el rango de días:\", 0, 6, (0, 6), format=\"Días: %d\")\n",
        "selected_days = data['Día'][start_day[0]:start_day[1] + 1]\n",
        "\n",
        "# Filtrar los datos según el rango seleccionado\n",
        "filtered_data = data.iloc[start_day[0]:start_day[1] + 1]\n",
        "\n",
        "st.line_chart(filtered_data.set_index('Día'))"
      ],
      "metadata": {
        "id": "rM8pA3FPTCoa"
      },
      "id": "rM8pA3FPTCoa",
      "execution_count": null,
      "outputs": []
    }
  ],
  "metadata": {
    "colab": {
      "provenance": []
    },
    "kernelspec": {
      "display_name": "Python 3",
      "name": "python3"
    },
    "language_info": {
      "name": "python"
    }
  },
  "nbformat": 4,
  "nbformat_minor": 5
}